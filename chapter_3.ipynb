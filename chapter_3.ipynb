{
  "nbformat": 4,
  "nbformat_minor": 0,
  "metadata": {
    "colab": {
      "name": "chapter_3.ipynb",
      "provenance": [],
      "collapsed_sections": [],
      "authorship_tag": "ABX9TyOAzZyr2rS+bKYj1zpsl7uG",
      "include_colab_link": true
    },
    "kernelspec": {
      "name": "python3",
      "display_name": "Python 3"
    }
  },
  "cells": [
    {
      "cell_type": "markdown",
      "metadata": {
        "id": "view-in-github",
        "colab_type": "text"
      },
      "source": [
        "<a href=\"https://colab.research.google.com/github/nurseiit/ml-kachow/blob/master/chapter_3.ipynb\" target=\"_parent\"><img src=\"https://colab.research.google.com/assets/colab-badge.svg\" alt=\"Open In Colab\"/></a>"
      ]
    },
    {
      "cell_type": "markdown",
      "metadata": {
        "id": "ymONDZtIJ8v2",
        "colab_type": "text"
      },
      "source": [
        "I solved exercise #1.\n",
        "\n",
        "## What I learned\n",
        "\n",
        "- Binary Classifier\n",
        "\n",
        "- Evaluate a model's performance\n",
        "\n",
        "- Find out `accuracy` is not always a good measure\n",
        "\n",
        "- Using `Confusion Matrix` in evaluation\n",
        "\n",
        "    - Further, learn about `precision`, `recall`, and `f_1` scores\n",
        "\n",
        "- Multiclass, Multilabel, & Multioutput Classifications"
      ]
    },
    {
      "cell_type": "code",
      "metadata": {
        "id": "f1eLlgXpJD_A",
        "colab_type": "code",
        "colab": {}
      },
      "source": [
        "from sklearn.datasets import fetch_openml"
      ],
      "execution_count": 1,
      "outputs": []
    },
    {
      "cell_type": "code",
      "metadata": {
        "id": "OHBUXQP4KT0N",
        "colab_type": "code",
        "colab": {
          "base_uri": "https://localhost:8080/",
          "height": 34
        },
        "outputId": "0cf920b6-a4d5-4894-e05e-8c42cb55cb67"
      },
      "source": [
        "mnist = fetch_openml('mnist_784', version=1)\n",
        "mnist.keys()"
      ],
      "execution_count": 2,
      "outputs": [
        {
          "output_type": "execute_result",
          "data": {
            "text/plain": [
              "dict_keys(['data', 'target', 'frame', 'feature_names', 'target_names', 'DESCR', 'details', 'categories', 'url'])"
            ]
          },
          "metadata": {
            "tags": []
          },
          "execution_count": 2
        }
      ]
    },
    {
      "cell_type": "code",
      "metadata": {
        "id": "9Q-7awIeKXvt",
        "colab_type": "code",
        "colab": {
          "base_uri": "https://localhost:8080/",
          "height": 52
        },
        "outputId": "0b8b7faa-b34e-4a0c-f622-e909ea39ee3e"
      },
      "source": [
        "X, y = mnist['data'], mnist['target']\n",
        "print(X.shape)\n",
        "print(y.shape)"
      ],
      "execution_count": 3,
      "outputs": [
        {
          "output_type": "stream",
          "text": [
            "(70000, 784)\n",
            "(70000,)\n"
          ],
          "name": "stdout"
        }
      ]
    },
    {
      "cell_type": "code",
      "metadata": {
        "id": "yDK1BkfTKhhd",
        "colab_type": "code",
        "colab": {}
      },
      "source": [
        "import matplotlib as mpl\n",
        "import matplotlib.pyplot as plt"
      ],
      "execution_count": 4,
      "outputs": []
    },
    {
      "cell_type": "code",
      "metadata": {
        "id": "-8TC1qt0KowH",
        "colab_type": "code",
        "colab": {
          "base_uri": "https://localhost:8080/",
          "height": 248
        },
        "outputId": "f0ae1433-5a81-4ca8-8452-4cda07e43b63"
      },
      "source": [
        "# let's see one of our digits\n",
        "some_digit = X[0]\n",
        "some_digit_image = some_digit.reshape(28, 28)\n",
        "\n",
        "plt.imshow(some_digit_image, cmap=\"binary\")\n",
        "plt.axis(\"off\")\n",
        "plt.show()"
      ],
      "execution_count": 5,
      "outputs": [
        {
          "output_type": "display_data",
          "data": {
            "image/png": "[encoded data removed]",
            "text/plain": [
              "<Figure size 432x288 with 1 Axes>"
            ]
          },
          "metadata": {
            "tags": [],
            "needs_background": "light"
          }
        }
      ]
    },
    {
      "cell_type": "code",
      "metadata": {
        "id": "cHawDx2HKy06",
        "colab_type": "code",
        "colab": {
          "base_uri": "https://localhost:8080/",
          "height": 52
        },
        "outputId": "6e8234c9-4035-46f7-c894-1392dcbfea00"
      },
      "source": [
        "# check it's label\n",
        "print(y[0])\n",
        "print(type(y[0]))"
      ],
      "execution_count": 6,
      "outputs": [
        {
          "output_type": "stream",
          "text": [
            "5\n",
            "<class 'str'>\n"
          ],
          "name": "stdout"
        }
      ]
    },
    {
      "cell_type": "code",
      "metadata": {
        "id": "mNIOSztxLCfm",
        "colab_type": "code",
        "colab": {}
      },
      "source": [
        "import numpy as np\n",
        "\n",
        "# let's cast strings to ints in labels\n",
        "y = y.astype(np.uint8)"
      ],
      "execution_count": 7,
      "outputs": []
    },
    {
      "cell_type": "markdown",
      "metadata": {
        "id": "e0csJBrMLUKd",
        "colab_type": "text"
      },
      "source": [
        "## Create `test` & `train` sets"
      ]
    },
    {
      "cell_type": "code",
      "metadata": {
        "id": "XEP4A3lTK6T3",
        "colab_type": "code",
        "colab": {}
      },
      "source": [
        "X_train, X_test = X[:60000], X[60000:]\n",
        "y_train, y_test = y[:60000], y[60000:]"
      ],
      "execution_count": 8,
      "outputs": []
    },
    {
      "cell_type": "markdown",
      "metadata": {
        "id": "PtvglJ23MCXI",
        "colab_type": "text"
      },
      "source": [
        "## Start by a Binary Classifier"
      ]
    },
    {
      "cell_type": "code",
      "metadata": {
        "id": "gmgNbGBILoGH",
        "colab_type": "code",
        "colab": {}
      },
      "source": [
        "# create target vectors for classifying 5-s\n",
        "y_train_5 = (y_train == 5)\n",
        "y_test_5 = (y_test == 5)"
      ],
      "execution_count": 9,
      "outputs": []
    },
    {
      "cell_type": "code",
      "metadata": {
        "id": "t_LVzLnAMX_3",
        "colab_type": "code",
        "colab": {
          "base_uri": "https://localhost:8080/",
          "height": 121
        },
        "outputId": "60ac779f-6f57-4eff-fce5-5edd595b1a20"
      },
      "source": [
        "# let's try Stochastic Gradient Descent or SGD\n",
        "from sklearn.linear_model import SGDClassifier\n",
        "\n",
        "sgd_clf = SGDClassifier(random_state=42) # `random_state` for our results to be the same across runs\n",
        "sgd_clf.fit(X_train, y_train_5)"
      ],
      "execution_count": 10,
      "outputs": [
        {
          "output_type": "execute_result",
          "data": {
            "text/plain": [
              "SGDClassifier(alpha=0.0001, average=False, class_weight=None,\n",
              "              early_stopping=False, epsilon=0.1, eta0=0.0, fit_intercept=True,\n",
              "              l1_ratio=0.15, learning_rate='optimal', loss='hinge',\n",
              "              max_iter=1000, n_iter_no_change=5, n_jobs=None, penalty='l2',\n",
              "              power_t=0.5, random_state=42, shuffle=True, tol=0.001,\n",
              "              validation_fraction=0.1, verbose=0, warm_start=False)"
            ]
          },
          "metadata": {
            "tags": []
          },
          "execution_count": 10
        }
      ]
    },
    {
      "cell_type": "code",
      "metadata": {
        "id": "NazMs711MzKx",
        "colab_type": "code",
        "colab": {
          "base_uri": "https://localhost:8080/",
          "height": 34
        },
        "outputId": "f9ed387a-c3c7-4765-8db2-f77ff1479dc7"
      },
      "source": [
        "sgd_clf.predict([X[0], X[1]])\n",
        "print(y[0], y[1])"
      ],
      "execution_count": 11,
      "outputs": [
        {
          "output_type": "stream",
          "text": [
            "5 0\n"
          ],
          "name": "stdout"
        }
      ]
    },
    {
      "cell_type": "markdown",
      "metadata": {
        "id": "nvniNe69NK2c",
        "colab_type": "text"
      },
      "source": [
        "### Looks a'ight, let's evaluate\n",
        "\n",
        "Try Cross-Validation first:"
      ]
    },
    {
      "cell_type": "code",
      "metadata": {
        "id": "o1xbAsK8NWve",
        "colab_type": "code",
        "colab": {
          "base_uri": "https://localhost:8080/",
          "height": 34
        },
        "outputId": "50048d93-2aed-42dc-9ed4-64f23e51e867"
      },
      "source": [
        "from sklearn.model_selection import cross_val_score\n",
        "\n",
        "cross_val_score(sgd_clf, X_train, y_train_5, cv=3, scoring=\"accuracy\")"
      ],
      "execution_count": 12,
      "outputs": [
        {
          "output_type": "execute_result",
          "data": {
            "text/plain": [
              "array([0.95035, 0.96035, 0.9604 ])"
            ]
          },
          "metadata": {
            "tags": []
          },
          "execution_count": 12
        }
      ]
    },
    {
      "cell_type": "markdown",
      "metadata": {
        "id": "NwitffDbRfRj",
        "colab_type": "text"
      },
      "source": [
        "`> 95% accuracy!` is it not great?\n",
        "\n",
        "Nope, let's see a comparison:"
      ]
    },
    {
      "cell_type": "code",
      "metadata": {
        "id": "cWn_U5b1RqpA",
        "colab_type": "code",
        "colab": {}
      },
      "source": [
        "from sklearn.base import BaseEstimator\n",
        "\n",
        "class DumbClassifier(BaseEstimator):\n",
        "  def fit(self, X, y=None):\n",
        "    # does nothing\n",
        "    return self\n",
        "  def predict(self, X):\n",
        "    # returns all False\n",
        "    return np.zeros((len(X), 1), dtype=bool)"
      ],
      "execution_count": 13,
      "outputs": []
    },
    {
      "cell_type": "markdown",
      "metadata": {
        "id": "RylD0Xf-SobW",
        "colab_type": "text"
      },
      "source": [
        "Pretty dumb, huh?\n",
        "\n",
        "Let's see how it scores in Cross-Validation:"
      ]
    },
    {
      "cell_type": "code",
      "metadata": {
        "id": "yUaZxe4_SoCB",
        "colab_type": "code",
        "colab": {
          "base_uri": "https://localhost:8080/",
          "height": 34
        },
        "outputId": "895189e7-b6af-44d4-888e-1a322536d6b8"
      },
      "source": [
        "dumb_clf = DumbClassifier()\n",
        "\n",
        "cross_val_score(dumb_clf, X_train, y_train_5, cv=3, scoring=\"accuracy\")"
      ],
      "execution_count": 14,
      "outputs": [
        {
          "output_type": "execute_result",
          "data": {
            "text/plain": [
              "array([0.91125, 0.90855, 0.90915])"
            ]
          },
          "metadata": {
            "tags": []
          },
          "execution_count": 14
        }
      ]
    },
    {
      "cell_type": "markdown",
      "metadata": {
        "id": "33GUO3qpS5cf",
        "colab_type": "text"
      },
      "source": [
        "See? It's `> 90% accuracy` with this classifier.\n",
        "\n",
        "Only `%10` of the dataset consists of `5-s`, so if you always guess `False`, you'll definitely get over 90%!\n",
        "\n",
        "**This shows that _accuracy_ is not the best performance measure for Classifiers.**"
      ]
    },
    {
      "cell_type": "markdown",
      "metadata": {
        "id": "HrDXeb1rUur_",
        "colab_type": "text"
      },
      "source": [
        "#### Let's use a `Confusion Matrix` instead"
      ]
    },
    {
      "cell_type": "code",
      "metadata": {
        "id": "HHtHqed9S4G3",
        "colab_type": "code",
        "colab": {}
      },
      "source": [
        "from sklearn.model_selection import cross_val_predict\n",
        "\n",
        "# let's get a predictions set first\n",
        "y_train_pred = cross_val_predict(sgd_clf, X_train, y_train_5, cv=3, n_jobs=-1)"
      ],
      "execution_count": 15,
      "outputs": []
    },
    {
      "cell_type": "code",
      "metadata": {
        "id": "kbOttqHwhSmL",
        "colab_type": "code",
        "colab": {
          "base_uri": "https://localhost:8080/",
          "height": 52
        },
        "outputId": "8a1e1ef2-48d4-49e0-de96-e62b24a7249d"
      },
      "source": [
        "from sklearn.metrics import confusion_matrix\n",
        "# get confusion matrix compared to original labels\n",
        "confusion_matrix(y_train_5, y_train_pred)"
      ],
      "execution_count": 16,
      "outputs": [
        {
          "output_type": "execute_result",
          "data": {
            "text/plain": [
              "array([[53892,   687],\n",
              "       [ 1891,  3530]])"
            ]
          },
          "metadata": {
            "tags": []
          },
          "execution_count": 16
        }
      ]
    },
    {
      "cell_type": "code",
      "metadata": {
        "id": "YnkjTnMJjJu6",
        "colab_type": "code",
        "colab": {
          "base_uri": "https://localhost:8080/",
          "height": 52
        },
        "outputId": "66737398-4e09-45cf-c2d4-a928127fb1bb"
      },
      "source": [
        "from sklearn.metrics import precision_score, recall_score\n",
        "\n",
        "print(precision_score(y_train_5, y_train_pred))\n",
        "print(recall_score(y_train_5, y_train_pred))"
      ],
      "execution_count": 17,
      "outputs": [
        {
          "output_type": "stream",
          "text": [
            "0.8370879772350012\n",
            "0.6511713705958311\n"
          ],
          "name": "stdout"
        }
      ]
    },
    {
      "cell_type": "markdown",
      "metadata": {
        "id": "RGaUB4h9jZDh",
        "colab_type": "text"
      },
      "source": [
        "#### Okay, what do these numbers mean?\n",
        "\n",
        "When it claims an image as `5`, it is correct `83.7%` of the time. Also, it only detects `65.1%` of real `5-s`."
      ]
    },
    {
      "cell_type": "code",
      "metadata": {
        "id": "LH-Qyg8sjTFb",
        "colab_type": "code",
        "colab": {
          "base_uri": "https://localhost:8080/",
          "height": 34
        },
        "outputId": "f69a794c-e4d7-4a5f-8d43-336a81135eaa"
      },
      "source": [
        "# now let's combine these 2 via their harmonic mean\n",
        "# or, we can directly compute it as below\n",
        "from sklearn.metrics import f1_score\n",
        "\n",
        "print(f1_score(y_train_5, y_train_pred))"
      ],
      "execution_count": 18,
      "outputs": [
        {
          "output_type": "stream",
          "text": [
            "0.7325171197343846\n"
          ],
          "name": "stdout"
        }
      ]
    },
    {
      "cell_type": "markdown",
      "metadata": {
        "id": "OibUGASxmPGP",
        "colab_type": "text"
      },
      "source": [
        "### Now let's try out Random Forest"
      ]
    },
    {
      "cell_type": "code",
      "metadata": {
        "id": "CFOWXIrVmT57",
        "colab_type": "code",
        "colab": {}
      },
      "source": [
        "from sklearn.ensemble import RandomForestClassifier\n",
        "\n",
        "forest_clf = RandomForestClassifier(random_state=42) # for our results stay same across runs"
      ],
      "execution_count": 19,
      "outputs": []
    },
    {
      "cell_type": "code",
      "metadata": {
        "id": "nuldjrOYmtSM",
        "colab_type": "code",
        "colab": {
          "base_uri": "https://localhost:8080/",
          "height": 34
        },
        "outputId": "1355fcf0-41d9-4168-abfc-f288ede9f7df"
      },
      "source": [
        "# let's try evaluate that\n",
        "y_train_forest_pred = cross_val_predict(forest_clf, X_train, y_train_5, cv=3, n_jobs=-1)\n",
        "\n",
        "print(f1_score(y_train_5, y_train_forest_pred))"
      ],
      "execution_count": 20,
      "outputs": [
        {
          "output_type": "stream",
          "text": [
            "0.9242275142688446\n"
          ],
          "name": "stdout"
        }
      ]
    },
    {
      "cell_type": "markdown",
      "metadata": {
        "id": "0hZPaHaQnS9i",
        "colab_type": "text"
      },
      "source": [
        "Pretty good, huh?"
      ]
    },
    {
      "cell_type": "markdown",
      "metadata": {
        "id": "i7yLIYK0nfwJ",
        "colab_type": "text"
      },
      "source": [
        "## Multiclass Classification"
      ]
    },
    {
      "cell_type": "code",
      "metadata": {
        "id": "QlPrZKGznnI1",
        "colab_type": "code",
        "colab": {
          "base_uri": "https://localhost:8080/",
          "height": 156
        },
        "outputId": "e8661362-005b-4663-de4b-da2ddc418f18"
      },
      "source": [
        "forest_multi_clf = RandomForestClassifier()\n",
        "forest_multi_clf.fit(X_train, y_train)"
      ],
      "execution_count": 21,
      "outputs": [
        {
          "output_type": "execute_result",
          "data": {
            "text/plain": [
              "RandomForestClassifier(bootstrap=True, ccp_alpha=0.0, class_weight=None,\n",
              "                       criterion='gini', max_depth=None, max_features='auto',\n",
              "                       max_leaf_nodes=None, max_samples=None,\n",
              "                       min_impurity_decrease=0.0, min_impurity_split=None,\n",
              "                       min_samples_leaf=1, min_samples_split=2,\n",
              "                       min_weight_fraction_leaf=0.0, n_estimators=100,\n",
              "                       n_jobs=None, oob_score=False, random_state=None,\n",
              "                       verbose=0, warm_start=False)"
            ]
          },
          "metadata": {
            "tags": []
          },
          "execution_count": 21
        }
      ]
    },
    {
      "cell_type": "code",
      "metadata": {
        "id": "nLWs2kchzRPP",
        "colab_type": "code",
        "colab": {
          "base_uri": "https://localhost:8080/",
          "height": 34
        },
        "outputId": "d672f224-cdd4-4618-e5ba-7d056131469a"
      },
      "source": [
        "forest_multi_clf.predict([X[0]])"
      ],
      "execution_count": 22,
      "outputs": [
        {
          "output_type": "execute_result",
          "data": {
            "text/plain": [
              "array([5], dtype=uint8)"
            ]
          },
          "metadata": {
            "tags": []
          },
          "execution_count": 22
        }
      ]
    },
    {
      "cell_type": "code",
      "metadata": {
        "id": "vCAyUkWyzeUD",
        "colab_type": "code",
        "colab": {
          "base_uri": "https://localhost:8080/",
          "height": 34
        },
        "outputId": "adbac262-9d97-440e-fb13-cff365ced062"
      },
      "source": [
        "cross_val_score(forest_multi_clf, X_train, y_train, cv=3, scoring=\"accuracy\")"
      ],
      "execution_count": 23,
      "outputs": [
        {
          "output_type": "execute_result",
          "data": {
            "text/plain": [
              "array([0.9662 , 0.96305, 0.96625])"
            ]
          },
          "metadata": {
            "tags": []
          },
          "execution_count": 23
        }
      ]
    },
    {
      "cell_type": "markdown",
      "metadata": {
        "id": "1N2lPWhv0MJJ",
        "colab_type": "text"
      },
      "source": [
        "Over `96%` on all folds!"
      ]
    },
    {
      "cell_type": "markdown",
      "metadata": {
        "id": "TSmZNufx2xaY",
        "colab_type": "text"
      },
      "source": [
        "## Mulitlabel Classification"
      ]
    },
    {
      "cell_type": "code",
      "metadata": {
        "id": "Ju4P00B321LG",
        "colab_type": "code",
        "colab": {
          "base_uri": "https://localhost:8080/",
          "height": 69
        },
        "outputId": "7ff9c25f-94e5-4254-f5ec-1facf4f727dd"
      },
      "source": [
        "from sklearn.neighbors import KNeighborsClassifier\n",
        "\n",
        "y_train_large = (y_train >= 7)\n",
        "y_train_odd = (y_train % 2 == 1)\n",
        "y_train_multilabel = np.c_[y_train_large, y_train_odd]\n",
        "\n",
        "knn_clf = KNeighborsClassifier()\n",
        "knn_clf.fit(X_train, y_train_multilabel)"
      ],
      "execution_count": 24,
      "outputs": [
        {
          "output_type": "execute_result",
          "data": {
            "text/plain": [
              "KNeighborsClassifier(algorithm='auto', leaf_size=30, metric='minkowski',\n",
              "                     metric_params=None, n_jobs=None, n_neighbors=5, p=2,\n",
              "                     weights='uniform')"
            ]
          },
          "metadata": {
            "tags": []
          },
          "execution_count": 24
        }
      ]
    },
    {
      "cell_type": "code",
      "metadata": {
        "id": "4jtKugwG3bX7",
        "colab_type": "code",
        "colab": {
          "base_uri": "https://localhost:8080/",
          "height": 34
        },
        "outputId": "9f26910c-abde-4159-e1ea-029386bd82e7"
      },
      "source": [
        "knn_clf.predict([X[0]])"
      ],
      "execution_count": 25,
      "outputs": [
        {
          "output_type": "execute_result",
          "data": {
            "text/plain": [
              "array([[False,  True]])"
            ]
          },
          "metadata": {
            "tags": []
          },
          "execution_count": 25
        }
      ]
    },
    {
      "cell_type": "markdown",
      "metadata": {
        "id": "Ys4nMwCy46rv",
        "colab_type": "text"
      },
      "source": [
        "## Multioutput Classification"
      ]
    },
    {
      "cell_type": "code",
      "metadata": {
        "id": "vE_-I0aZ5F9O",
        "colab_type": "code",
        "colab": {}
      },
      "source": [
        "noise = np.random.randint(0, 100, (len(X_train), 784))\n",
        "X_train_mod = X_train + noise\n",
        "noise = np.random.randint(0, 100, (len(X_test), 784))\n",
        "X_test_mod = X_test + noise\n",
        "y_train_mod = X_train\n",
        "y_test_mod = X_test"
      ],
      "execution_count": 27,
      "outputs": []
    },
    {
      "cell_type": "code",
      "metadata": {
        "id": "k7nuk8K-HQy4",
        "colab_type": "code",
        "colab": {
          "base_uri": "https://localhost:8080/",
          "height": 248
        },
        "outputId": "f20be786-ef52-4ae1-9a49-f2b33262aed9"
      },
      "source": [
        "some_index = 0\n",
        "\n",
        "def plot_digit(digit):\n",
        "  digit_image = digit.reshape(28, 28)\n",
        "\n",
        "  plt.imshow(digit_image, cmap=\"binary\")\n",
        "  plt.axis(\"off\")\n",
        "  plt.show()\n",
        "\n",
        "knn_clf.fit(X_train_mod, y_train_mod)\n",
        "clean_digit = knn_clf.predict([X_test_mod[some_index]])\n",
        "plot_digit(clean_digit)"
      ],
      "execution_count": 30,
      "outputs": [
        {
          "output_type": "display_data",
          "data": {
            "image/png": "[encoded data removed]",
            "text/plain": [
              "<Figure size 432x288 with 1 Axes>"
            ]
          },
          "metadata": {
            "tags": [],
            "needs_background": "light"
          }
        }
      ]
    },
    {
      "cell_type": "markdown",
      "metadata": {
        "id": "TMjCVzZvH2o_",
        "colab_type": "text"
      },
      "source": [
        "## Exercise 1 Solution"
      ]
    },
    {
      "cell_type": "code",
      "metadata": {
        "id": "rcw9OnLwHte_",
        "colab_type": "code",
        "colab": {}
      },
      "source": [
        ""
      ],
      "execution_count": null,
      "outputs": []
    }
  ]
}