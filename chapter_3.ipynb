{
  "nbformat": 4,
  "nbformat_minor": 0,
  "metadata": {
    "colab": {
      "name": "chapter_3.ipynb",
      "provenance": [],
      "authorship_tag": "ABX9TyN2CXCEZ2opmSAiLdh++TWk",
      "include_colab_link": true
    },
    "kernelspec": {
      "name": "python3",
      "display_name": "Python 3"
    }
  },
  "cells": [
    {
      "cell_type": "markdown",
      "metadata": {
        "id": "view-in-github",
        "colab_type": "text"
      },
      "source": [
        "<a href=\"https://colab.research.google.com/github/nurseiit/ml-kachow/blob/master/chapter_3.ipynb\" target=\"_parent\"><img src=\"https://colab.research.google.com/assets/colab-badge.svg\" alt=\"Open In Colab\"/></a>"
      ]
    },
    {
      "cell_type": "markdown",
      "metadata": {
        "id": "ymONDZtIJ8v2",
        "colab_type": "text"
      },
      "source": [
        "I solved exercise #x.\n",
        "\n",
        "## What I learned\n",
        "\n",
        "- soksldk"
      ]
    },
    {
      "cell_type": "code",
      "metadata": {
        "id": "f1eLlgXpJD_A",
        "colab_type": "code",
        "colab": {}
      },
      "source": [
        "from sklearn.datasets import fetch_openml"
      ],
      "execution_count": 1,
      "outputs": []
    },
    {
      "cell_type": "code",
      "metadata": {
        "id": "OHBUXQP4KT0N",
        "colab_type": "code",
        "colab": {
          "base_uri": "https://localhost:8080/",
          "height": 34
        },
        "outputId": "663a4999-754f-4f55-b911-70f20623cc3e"
      },
      "source": [
        "mnist = fetch_openml('mnist_784', version=1)\n",
        "mnist.keys()"
      ],
      "execution_count": 2,
      "outputs": [
        {
          "output_type": "execute_result",
          "data": {
            "text/plain": [
              "dict_keys(['data', 'target', 'frame', 'feature_names', 'target_names', 'DESCR', 'details', 'categories', 'url'])"
            ]
          },
          "metadata": {
            "tags": []
          },
          "execution_count": 2
        }
      ]
    },
    {
      "cell_type": "code",
      "metadata": {
        "id": "9Q-7awIeKXvt",
        "colab_type": "code",
        "colab": {
          "base_uri": "https://localhost:8080/",
          "height": 52
        },
        "outputId": "714153e7-c606-43b4-ec24-d5d434dba5ed"
      },
      "source": [
        "X, y = mnist['data'], mnist['target']\n",
        "print(X.shape)\n",
        "print(y.shape)"
      ],
      "execution_count": 3,
      "outputs": [
        {
          "output_type": "stream",
          "text": [
            "(70000, 784)\n",
            "(70000,)\n"
          ],
          "name": "stdout"
        }
      ]
    },
    {
      "cell_type": "code",
      "metadata": {
        "id": "yDK1BkfTKhhd",
        "colab_type": "code",
        "colab": {}
      },
      "source": [
        "import matplotlib as mpl\n",
        "import matplotlib.pyplot as plt"
      ],
      "execution_count": 4,
      "outputs": []
    },
    {
      "cell_type": "code",
      "metadata": {
        "id": "-8TC1qt0KowH",
        "colab_type": "code",
        "colab": {
          "base_uri": "https://localhost:8080/",
          "height": 248
        },
        "outputId": "760881a3-b210-4cc2-f023-15f730d1f02d"
      },
      "source": [
        "# let's see one of our digits\n",
        "some_digit = X[0]\n",
        "some_digit_image = some_digit.reshape(28, 28)\n",
        "\n",
        "plt.imshow(some_digit_image, cmap=\"binary\")\n",
        "plt.axis(\"off\")\n",
        "plt.show()"
      ],
      "execution_count": 5,
      "outputs": [
        {
          "output_type": "display_data",
          "data": {
            "image/png": "[encoded data removed]",
            "text/plain": [
              "<Figure size 432x288 with 1 Axes>"
            ]
          },
          "metadata": {
            "tags": [],
            "needs_background": "light"
          }
        }
      ]
    },
    {
      "cell_type": "code",
      "metadata": {
        "id": "cHawDx2HKy06",
        "colab_type": "code",
        "colab": {
          "base_uri": "https://localhost:8080/",
          "height": 52
        },
        "outputId": "3060f0dd-da46-4830-8ee2-1520b05ac1d8"
      },
      "source": [
        "# check it's label\n",
        "print(y[0])\n",
        "print(type(y[0]))"
      ],
      "execution_count": 6,
      "outputs": [
        {
          "output_type": "stream",
          "text": [
            "5\n",
            "<class 'str'>\n"
          ],
          "name": "stdout"
        }
      ]
    },
    {
      "cell_type": "code",
      "metadata": {
        "id": "mNIOSztxLCfm",
        "colab_type": "code",
        "colab": {}
      },
      "source": [
        "import numpy as np\n",
        "\n",
        "# let's cast strings to ints in labels\n",
        "y = y.astype(np.uint8)"
      ],
      "execution_count": 7,
      "outputs": []
    },
    {
      "cell_type": "markdown",
      "metadata": {
        "id": "e0csJBrMLUKd",
        "colab_type": "text"
      },
      "source": [
        "## Create `test` & `train` sets"
      ]
    },
    {
      "cell_type": "code",
      "metadata": {
        "id": "XEP4A3lTK6T3",
        "colab_type": "code",
        "colab": {}
      },
      "source": [
        "X_train, X_test = X[:60000], X[60000:]\n",
        "y_train, y_test = y[:60000], y[60000:]"
      ],
      "execution_count": 8,
      "outputs": []
    },
    {
      "cell_type": "markdown",
      "metadata": {
        "id": "PtvglJ23MCXI",
        "colab_type": "text"
      },
      "source": [
        "## Start by a Binary Classifier"
      ]
    },
    {
      "cell_type": "code",
      "metadata": {
        "id": "gmgNbGBILoGH",
        "colab_type": "code",
        "colab": {}
      },
      "source": [
        "# create target vectors for classifying 5-s\n",
        "y_train_5 = (y_train == 5)\n",
        "y_test_5 = (y_test == 5)"
      ],
      "execution_count": 9,
      "outputs": []
    },
    {
      "cell_type": "code",
      "metadata": {
        "id": "t_LVzLnAMX_3",
        "colab_type": "code",
        "colab": {
          "base_uri": "https://localhost:8080/",
          "height": 121
        },
        "outputId": "0de51ea1-413e-46e6-90da-c92aff0d9d4a"
      },
      "source": [
        "# let's try Stochastic Gradient Descent or SGD\n",
        "from sklearn.linear_model import SGDClassifier\n",
        "\n",
        "sgd_clf = SGDClassifier(random_state=42) # `random_state` for our results to be the same across runs\n",
        "sgd_clf.fit(X_train, y_train_5)"
      ],
      "execution_count": 10,
      "outputs": [
        {
          "output_type": "execute_result",
          "data": {
            "text/plain": [
              "SGDClassifier(alpha=0.0001, average=False, class_weight=None,\n",
              "              early_stopping=False, epsilon=0.1, eta0=0.0, fit_intercept=True,\n",
              "              l1_ratio=0.15, learning_rate='optimal', loss='hinge',\n",
              "              max_iter=1000, n_iter_no_change=5, n_jobs=None, penalty='l2',\n",
              "              power_t=0.5, random_state=42, shuffle=True, tol=0.001,\n",
              "              validation_fraction=0.1, verbose=0, warm_start=False)"
            ]
          },
          "metadata": {
            "tags": []
          },
          "execution_count": 10
        }
      ]
    },
    {
      "cell_type": "code",
      "metadata": {
        "id": "NazMs711MzKx",
        "colab_type": "code",
        "colab": {
          "base_uri": "https://localhost:8080/",
          "height": 34
        },
        "outputId": "2c739751-7ec9-475e-9e09-6f3b4fee2290"
      },
      "source": [
        "sgd_clf.predict([X[0], X[1]])\n",
        "print(y[0], y[1])"
      ],
      "execution_count": 11,
      "outputs": [
        {
          "output_type": "stream",
          "text": [
            "5 0\n"
          ],
          "name": "stdout"
        }
      ]
    },
    {
      "cell_type": "markdown",
      "metadata": {
        "id": "nvniNe69NK2c",
        "colab_type": "text"
      },
      "source": [
        "### Looks a'ight, let's evaluate\n",
        "\n",
        "Try Cross-Validation first:"
      ]
    },
    {
      "cell_type": "code",
      "metadata": {
        "id": "o1xbAsK8NWve",
        "colab_type": "code",
        "colab": {
          "base_uri": "https://localhost:8080/",
          "height": 34
        },
        "outputId": "3ba72850-0042-4c33-a04a-e54e6855edee"
      },
      "source": [
        "from sklearn.model_selection import cross_val_score\n",
        "\n",
        "cross_val_score(sgd_clf, X_train, y_train_5, cv=3, scoring=\"accuracy\")"
      ],
      "execution_count": 12,
      "outputs": [
        {
          "output_type": "execute_result",
          "data": {
            "text/plain": [
              "array([0.95035, 0.96035, 0.9604 ])"
            ]
          },
          "metadata": {
            "tags": []
          },
          "execution_count": 12
        }
      ]
    },
    {
      "cell_type": "markdown",
      "metadata": {
        "id": "NwitffDbRfRj",
        "colab_type": "text"
      },
      "source": [
        "`> 95% accuracy!` is it not great?\n",
        "\n",
        "Nope, let's see a comparison:"
      ]
    },
    {
      "cell_type": "code",
      "metadata": {
        "id": "cWn_U5b1RqpA",
        "colab_type": "code",
        "colab": {}
      },
      "source": [
        "from sklearn.base import BaseEstimator\n",
        "\n",
        "class DumbClassifier(BaseEstimator):\n",
        "  def fit(self, X, y=None):\n",
        "    # does nothing\n",
        "    return self\n",
        "  def predict(self, X):\n",
        "    # returns all False\n",
        "    return np.zeros((len(X), 1), dtype=bool)"
      ],
      "execution_count": 13,
      "outputs": []
    },
    {
      "cell_type": "markdown",
      "metadata": {
        "id": "RylD0Xf-SobW",
        "colab_type": "text"
      },
      "source": [
        "Pretty dumb, huh?\n",
        "\n",
        "Let's see how it scores in Cross-Validation:"
      ]
    },
    {
      "cell_type": "code",
      "metadata": {
        "id": "yUaZxe4_SoCB",
        "colab_type": "code",
        "colab": {
          "base_uri": "https://localhost:8080/",
          "height": 34
        },
        "outputId": "3d2c3a97-9caa-4255-9237-60c320b7b611"
      },
      "source": [
        "dumb_clf = DumbClassifier()\n",
        "\n",
        "cross_val_score(dumb_clf, X_train, y_train_5, cv=3, scoring=\"accuracy\")"
      ],
      "execution_count": 14,
      "outputs": [
        {
          "output_type": "execute_result",
          "data": {
            "text/plain": [
              "array([0.91125, 0.90855, 0.90915])"
            ]
          },
          "metadata": {
            "tags": []
          },
          "execution_count": 14
        }
      ]
    },
    {
      "cell_type": "markdown",
      "metadata": {
        "id": "33GUO3qpS5cf",
        "colab_type": "text"
      },
      "source": [
        "See? It's `> 90% accuracy` with this classifier.\n",
        "\n",
        "Only `%10` of the dataset consists of `5-s`, so if you always guess `False`, you'll definitely get over 90%!\n",
        "\n",
        "**This shows that _accuracy_ is not the best performance measure for Classifiers.**"
      ]
    },
    {
      "cell_type": "markdown",
      "metadata": {
        "id": "HrDXeb1rUur_",
        "colab_type": "text"
      },
      "source": [
        "#### Let's use a `Confusion Matrix` instead"
      ]
    },
    {
      "cell_type": "code",
      "metadata": {
        "id": "HHtHqed9S4G3",
        "colab_type": "code",
        "colab": {}
      },
      "source": [
        "from sklearn.model_selection import cross_val_predict\n",
        "\n",
        "# let's get a predictions set first\n",
        "y_train_pred = cross_val_predict(sgd_clf, X_train, y_train_5, cv=3)"
      ],
      "execution_count": 16,
      "outputs": []
    },
    {
      "cell_type": "code",
      "metadata": {
        "id": "kbOttqHwhSmL",
        "colab_type": "code",
        "colab": {
          "base_uri": "https://localhost:8080/",
          "height": 52
        },
        "outputId": "a42d7160-b1da-4b5f-88a7-c9833062e352"
      },
      "source": [
        "from sklearn.metrics import confusion_matrix\n",
        "# get confusion matrix compared to original labels\n",
        "confusion_matrix(y_train_5, y_train_pred)"
      ],
      "execution_count": 17,
      "outputs": [
        {
          "output_type": "execute_result",
          "data": {
            "text/plain": [
              "array([[53892,   687],\n",
              "       [ 1891,  3530]])"
            ]
          },
          "metadata": {
            "tags": []
          },
          "execution_count": 17
        }
      ]
    },
    {
      "cell_type": "code",
      "metadata": {
        "id": "YnkjTnMJjJu6",
        "colab_type": "code",
        "colab": {
          "base_uri": "https://localhost:8080/",
          "height": 52
        },
        "outputId": "7db475d3-85e9-4ac8-f3dc-57021f9bd9dd"
      },
      "source": [
        "from sklearn.metrics import precision_score, recall_score\n",
        "\n",
        "print(precision_score(y_train_5, y_train_pred))\n",
        "print(recall_score(y_train_5, y_train_pred))"
      ],
      "execution_count": 18,
      "outputs": [
        {
          "output_type": "stream",
          "text": [
            "0.8370879772350012\n",
            "0.6511713705958311\n"
          ],
          "name": "stdout"
        }
      ]
    },
    {
      "cell_type": "markdown",
      "metadata": {
        "id": "RGaUB4h9jZDh",
        "colab_type": "text"
      },
      "source": [
        "#### Okay, what do these numbers mean?\n",
        "\n",
        "When it claims an image as `5`, it is correct `83.7%` of the time. Also, it only detects `65.1%` of real `5-s`."
      ]
    },
    {
      "cell_type": "code",
      "metadata": {
        "id": "LH-Qyg8sjTFb",
        "colab_type": "code",
        "colab": {
          "base_uri": "https://localhost:8080/",
          "height": 34
        },
        "outputId": "4bf68704-071d-4e2b-933c-5bfdc2d39884"
      },
      "source": [
        "# now let's combine these 2 via their harmonic mean\n",
        "# or, we can directly compute it as below\n",
        "from sklearn.metrics import f1_score\n",
        "\n",
        "print(f1_score(y_train_5, y_train_pred))"
      ],
      "execution_count": 19,
      "outputs": [
        {
          "output_type": "stream",
          "text": [
            "0.7325171197343846\n"
          ],
          "name": "stdout"
        }
      ]
    },
    {
      "cell_type": "markdown",
      "metadata": {
        "id": "OibUGASxmPGP",
        "colab_type": "text"
      },
      "source": [
        "### Now let's try out Random Forest"
      ]
    },
    {
      "cell_type": "code",
      "metadata": {
        "id": "CFOWXIrVmT57",
        "colab_type": "code",
        "colab": {}
      },
      "source": [
        "from sklearn.ensemble import RandomForestClassifier\n",
        "\n",
        "forest_clf = RandomForestClassifier(random_state=42) # for our results stay same across runs"
      ],
      "execution_count": 20,
      "outputs": []
    },
    {
      "cell_type": "code",
      "metadata": {
        "id": "nuldjrOYmtSM",
        "colab_type": "code",
        "colab": {
          "base_uri": "https://localhost:8080/",
          "height": 34
        },
        "outputId": "c45274e0-b49b-47ee-fc11-6810e82682da"
      },
      "source": [
        "# let's try evaluate that\n",
        "y_train_forest_pred = cross_val_predict(forest_clf, X_train, y_train_5, cv=3)\n",
        "\n",
        "print(f1_score(y_train_5, y_train_forest_pred))"
      ],
      "execution_count": 21,
      "outputs": [
        {
          "output_type": "stream",
          "text": [
            "0.9242275142688446\n"
          ],
          "name": "stdout"
        }
      ]
    },
    {
      "cell_type": "markdown",
      "metadata": {
        "id": "0hZPaHaQnS9i",
        "colab_type": "text"
      },
      "source": [
        "Pretty good, huh?"
      ]
    },
    {
      "cell_type": "markdown",
      "metadata": {
        "id": "i7yLIYK0nfwJ",
        "colab_type": "text"
      },
      "source": [
        "## Multiclass Classification"
      ]
    },
    {
      "cell_type": "code",
      "metadata": {
        "id": "QlPrZKGznnI1",
        "colab_type": "code",
        "colab": {
          "base_uri": "https://localhost:8080/",
          "height": 34
        },
        "outputId": "91c24cd6-96ff-46bd-834a-abbcfac6a429"
      },
      "source": [
        "print('hoorray')"
      ],
      "execution_count": 22,
      "outputs": [
        {
          "output_type": "stream",
          "text": [
            "hoorray\n"
          ],
          "name": "stdout"
        }
      ]
    }
  ]
}